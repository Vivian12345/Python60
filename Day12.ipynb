{
 "cells": [
  {
   "cell_type": "markdown",
   "metadata": {},
   "source": [
    "# Assignment"
   ]
  },
  {
   "cell_type": "code",
   "execution_count": 1,
   "metadata": {},
   "outputs": [],
   "source": [
    "import pandas as pd\n",
    "import numpy as np"
   ]
  },
  {
   "cell_type": "markdown",
   "metadata": {},
   "source": [
    "## 1.畫出箱型圖，並判斷哪個欄位的中位數在300~400之間?"
   ]
  },
  {
   "cell_type": "markdown",
   "metadata": {},
   "source": [
    "## 答: key,  TAR"
   ]
  },
  {
   "cell_type": "code",
   "execution_count": 41,
   "metadata": {},
   "outputs": [],
   "source": [
    "boston_data = pd.read_csv(\"boston.csv\")"
   ]
  },
  {
   "cell_type": "code",
   "execution_count": 42,
   "metadata": {
    "scrolled": false
   },
   "outputs": [
    {
     "data": {
      "text/plain": [
       "<matplotlib.axes._subplots.AxesSubplot at 0x1d4447357b8>"
      ]
     },
     "execution_count": 42,
     "metadata": {},
     "output_type": "execute_result"
    },
    {
     "data": {
      "image/png": "[encoded data removed]",
      "text/plain": [
       "<Figure size 432x288 with 1 Axes>"
      ]
     },
     "metadata": {
      "needs_background": "light"
     },
     "output_type": "display_data"
    }
   ],
   "source": [
    "boston_data.plot.box()"
   ]
  },
  {
   "cell_type": "markdown",
   "metadata": {},
   "source": [
    "## 2.畫出散佈圖 x='NOX', y='DIS' ，並說明這兩欄位有什麼關係?"
   ]
  },
  {
   "cell_type": "markdown",
   "metadata": {},
   "source": [
    "## 答: 呈反比"
   ]
  },
  {
   "cell_type": "code",
   "execution_count": 56,
   "metadata": {},
   "outputs": [
    {
     "data": {
      "text/plain": [
       "Index(['key', 'CRIM', 'ZN', 'INDUS', 'CHAS', 'NOX', 'RM', 'AGE', 'DIS', 'RAD',\n",
       "       'TAX', 'PTRATIO', 'B', 'LSTAT'],\n",
       "      dtype='object')"
      ]
     },
     "execution_count": 56,
     "metadata": {},
     "output_type": "execute_result"
    }
   ],
   "source": [
    "boston_data.columns"
   ]
  },
  {
   "cell_type": "code",
   "execution_count": 60,
   "metadata": {},
   "outputs": [],
   "source": [
    "scatter = boston_data[\"NOX\"]"
   ]
  },
  {
   "cell_type": "code",
   "execution_count": 61,
   "metadata": {},
   "outputs": [],
   "source": [
    "scatter1 = boston_data[\"DIS\"]"
   ]
  },
  {
   "cell_type": "code",
   "execution_count": 68,
   "metadata": {},
   "outputs": [],
   "source": [
    "scatters = pd.DataFrame([scatter,scatter1])"
   ]
  },
  {
   "cell_type": "code",
   "execution_count": 73,
   "metadata": {},
   "outputs": [],
   "source": [
    "new_scatter = scatters.T"
   ]
  },
  {
   "cell_type": "code",
   "execution_count": 74,
   "metadata": {},
   "outputs": [
    {
     "data": {
      "text/plain": [
       "<matplotlib.axes._subplots.AxesSubplot at 0x1d442d8e470>"
      ]
     },
     "execution_count": 74,
     "metadata": {},
     "output_type": "execute_result"
    },
    {
     "data": {
      "image/png": "[encoded data removed]",
      "text/plain": [
       "<Figure size 432x288 with 1 Axes>"
      ]
     },
     "metadata": {
      "needs_background": "light"
     },
     "output_type": "display_data"
    }
   ],
   "source": [
    "new_scatter.plot.scatter(x=\"NOX\", y=\"DIS\")"
   ]
  },
  {
   "cell_type": "markdown",
   "metadata": {},
   "source": [
    "# Practice"
   ]
  },
  {
   "cell_type": "code",
   "execution_count": 6,
   "metadata": {},
   "outputs": [],
   "source": [
    "ts = pd.Series(np.random.randn(200), index=pd.date_range(\"1/1/2020\", periods=200))"
   ]
  },
  {
   "cell_type": "code",
   "execution_count": 7,
   "metadata": {},
   "outputs": [
    {
     "name": "stdout",
     "output_type": "stream",
     "text": [
      "2020-01-01    0.383056\n",
      "2020-01-02    0.470100\n",
      "2020-01-03   -0.055504\n",
      "2020-01-04    0.273181\n",
      "2020-01-05    0.458259\n",
      "2020-01-06    0.036277\n",
      "2020-01-07   -0.590749\n",
      "2020-01-08    1.329088\n",
      "2020-01-09   -0.477968\n",
      "2020-01-10    0.102099\n",
      "2020-01-11   -0.341048\n",
      "2020-01-12   -0.401135\n",
      "2020-01-13    0.217239\n",
      "2020-01-14    1.167566\n",
      "2020-01-15   -0.147705\n",
      "2020-01-16   -1.014681\n",
      "2020-01-17    1.016130\n",
      "2020-01-18    0.326321\n",
      "2020-01-19    0.469432\n",
      "2020-01-20   -1.211249\n",
      "2020-01-21   -0.191585\n",
      "2020-01-22    0.138427\n",
      "2020-01-23    0.141371\n",
      "2020-01-24    1.361210\n",
      "2020-01-25    0.209270\n",
      "2020-01-26    1.292857\n",
      "2020-01-27   -0.457380\n",
      "2020-01-28    1.430053\n",
      "2020-01-29   -1.155546\n",
      "2020-01-30   -0.766446\n",
      "                ...   \n",
      "2020-06-19    0.941943\n",
      "2020-06-20   -0.017346\n",
      "2020-06-21   -0.804773\n",
      "2020-06-22   -1.812192\n",
      "2020-06-23   -0.905258\n",
      "2020-06-24   -0.175943\n",
      "2020-06-25    1.682565\n",
      "2020-06-26   -0.515693\n",
      "2020-06-27    0.576081\n",
      "2020-06-28    0.433188\n",
      "2020-06-29   -0.324412\n",
      "2020-06-30    0.606897\n",
      "2020-07-01   -0.519435\n",
      "2020-07-02   -1.937318\n",
      "2020-07-03    1.493964\n",
      "2020-07-04    0.384977\n",
      "2020-07-05    0.963664\n",
      "2020-07-06    1.344233\n",
      "2020-07-07    0.530667\n",
      "2020-07-08    0.419709\n",
      "2020-07-09    0.266838\n",
      "2020-07-10    0.635544\n",
      "2020-07-11    0.441610\n",
      "2020-07-12    0.722492\n",
      "2020-07-13   -0.090009\n",
      "2020-07-14   -0.849172\n",
      "2020-07-15    0.045179\n",
      "2020-07-16    1.249199\n",
      "2020-07-17   -1.179883\n",
      "2020-07-18    1.065671\n",
      "Freq: D, Length: 200, dtype: float64\n"
     ]
    }
   ],
   "source": [
    "print(ts)"
   ]
  },
  {
   "cell_type": "code",
   "execution_count": 22,
   "metadata": {},
   "outputs": [
    {
     "data": {
      "text/plain": [
       "pandas.core.series.Series"
      ]
     },
     "execution_count": 22,
     "metadata": {},
     "output_type": "execute_result"
    }
   ],
   "source": [
    "type(ts)"
   ]
  },
  {
   "cell_type": "code",
   "execution_count": 8,
   "metadata": {},
   "outputs": [],
   "source": [
    "ts1 = ts.cumsum()"
   ]
  },
  {
   "cell_type": "code",
   "execution_count": 9,
   "metadata": {},
   "outputs": [
    {
     "name": "stdout",
     "output_type": "stream",
     "text": [
      "2020-01-01     0.383056\n",
      "2020-01-02     0.853156\n",
      "2020-01-03     0.797651\n",
      "2020-01-04     1.070832\n",
      "2020-01-05     1.529091\n",
      "2020-01-06     1.565369\n",
      "2020-01-07     0.974620\n",
      "2020-01-08     2.303708\n",
      "2020-01-09     1.825739\n",
      "2020-01-10     1.927839\n",
      "2020-01-11     1.586791\n",
      "2020-01-12     1.185656\n",
      "2020-01-13     1.402895\n",
      "2020-01-14     2.570461\n",
      "2020-01-15     2.422756\n",
      "2020-01-16     1.408075\n",
      "2020-01-17     2.424205\n",
      "2020-01-18     2.750526\n",
      "2020-01-19     3.219958\n",
      "2020-01-20     2.008709\n",
      "2020-01-21     1.817124\n",
      "2020-01-22     1.955551\n",
      "2020-01-23     2.096922\n",
      "2020-01-24     3.458132\n",
      "2020-01-25     3.667401\n",
      "2020-01-26     4.960258\n",
      "2020-01-27     4.502878\n",
      "2020-01-28     5.932932\n",
      "2020-01-29     4.777385\n",
      "2020-01-30     4.010939\n",
      "                ...    \n",
      "2020-06-19    27.081704\n",
      "2020-06-20    27.064358\n",
      "2020-06-21    26.259585\n",
      "2020-06-22    24.447393\n",
      "2020-06-23    23.542136\n",
      "2020-06-24    23.366192\n",
      "2020-06-25    25.048757\n",
      "2020-06-26    24.533064\n",
      "2020-06-27    25.109144\n",
      "2020-06-28    25.542333\n",
      "2020-06-29    25.217921\n",
      "2020-06-30    25.824817\n",
      "2020-07-01    25.305383\n",
      "2020-07-02    23.368065\n",
      "2020-07-03    24.862029\n",
      "2020-07-04    25.247006\n",
      "2020-07-05    26.210670\n",
      "2020-07-06    27.554903\n",
      "2020-07-07    28.085570\n",
      "2020-07-08    28.505279\n",
      "2020-07-09    28.772117\n",
      "2020-07-10    29.407661\n",
      "2020-07-11    29.849271\n",
      "2020-07-12    30.571763\n",
      "2020-07-13    30.481754\n",
      "2020-07-14    29.632582\n",
      "2020-07-15    29.677761\n",
      "2020-07-16    30.926960\n",
      "2020-07-17    29.747077\n",
      "2020-07-18    30.812748\n",
      "Freq: D, Length: 200, dtype: float64\n"
     ]
    }
   ],
   "source": [
    "print(ts1)"
   ]
  },
  {
   "cell_type": "code",
   "execution_count": 13,
   "metadata": {},
   "outputs": [
    {
     "data": {
      "text/plain": [
       "<matplotlib.axes._subplots.AxesSubplot at 0x1d442e0e400>"
      ]
     },
     "execution_count": 13,
     "metadata": {},
     "output_type": "execute_result"
    },
    {
     "data": {
      "image/png": "[encoded data removed]",
      "text/plain": [
       "<Figure size 432x288 with 1 Axes>"
      ]
     },
     "metadata": {
      "needs_background": "light"
     },
     "output_type": "display_data"
    }
   ],
   "source": [
    "ts1.plot()"
   ]
  },
  {
   "cell_type": "code",
   "execution_count": 14,
   "metadata": {},
   "outputs": [
    {
     "name": "stdout",
     "output_type": "stream",
     "text": [
      "                    A          B         C\n",
      "2020-01-01   0.601934  -0.174441  0.334843\n",
      "2020-01-02   0.461257   1.597453  0.469095\n",
      "2020-01-03   0.716690   1.803093 -0.111900\n",
      "2020-01-04   1.150675  -0.288021 -0.099503\n",
      "2020-01-05   0.945666  -1.722844  0.547086\n",
      "2020-01-06   3.090985  -0.504659 -1.407309\n",
      "2020-01-07   5.165022  -0.009272 -0.852148\n",
      "2020-01-08   4.700446  -0.110855 -0.600719\n",
      "2020-01-09   5.641302  -0.118342 -0.317564\n",
      "2020-01-10   5.371258  -0.340513  0.472118\n",
      "2020-01-11   5.960215  -0.391903  2.007352\n",
      "2020-01-12   7.502561  -1.910961  2.605625\n",
      "2020-01-13   8.172880  -1.280629  2.282046\n",
      "2020-01-14   8.155011  -2.443394  1.213402\n",
      "2020-01-15   9.135583  -2.632378  0.691820\n",
      "2020-01-16   9.202222  -3.609579 -0.044092\n",
      "2020-01-17   8.219445  -4.962231  0.018543\n",
      "2020-01-18  10.570117  -4.669801 -0.461433\n",
      "2020-01-19  11.375217  -5.283495 -1.497205\n",
      "2020-01-20  11.981426  -5.310492 -0.708364\n",
      "2020-01-21  10.521385  -3.769448 -2.085959\n",
      "2020-01-22  10.797983  -6.138229 -4.002403\n",
      "2020-01-23  10.374789  -4.995642 -3.737054\n",
      "2020-01-24   8.867249  -6.625170 -3.795828\n",
      "2020-01-25  10.430068  -6.092697 -2.874247\n",
      "2020-01-26  11.390855  -6.335289 -2.251473\n",
      "2020-01-27  13.776064  -7.545365 -1.040357\n",
      "2020-01-28  14.377880  -9.052618 -0.610751\n",
      "2020-01-29  13.466043  -8.951699 -0.598474\n",
      "2020-01-30  13.776778  -8.971667 -1.275689\n",
      "...               ...        ...       ...\n",
      "2020-06-19  11.150319   9.295734  2.482239\n",
      "2020-06-20  12.263250  10.383676  3.886410\n",
      "2020-06-21   8.625016  12.159638  4.762491\n",
      "2020-06-22   7.708369  12.244905  6.571673\n",
      "2020-06-23   5.299790  13.868493  4.659020\n",
      "2020-06-24   4.875846  13.496468  3.128031\n",
      "2020-06-25   4.028457  12.497353  4.745558\n",
      "2020-06-26   2.212928  12.890114  5.073905\n",
      "2020-06-27   2.820886  12.625467  6.097102\n",
      "2020-06-28   2.952445  12.889783  6.187625\n",
      "2020-06-29   2.513877  11.814297  2.826493\n",
      "2020-06-30   3.540756  11.587660  2.517011\n",
      "2020-07-01   3.802759  11.116226  2.269280\n",
      "2020-07-02   2.725733  11.908405  1.764955\n",
      "2020-07-03   2.556911  12.329441  2.358623\n",
      "2020-07-04   2.707110  13.738251  2.853832\n",
      "2020-07-05   2.852799  12.652688  1.891611\n",
      "2020-07-06   2.248504  11.309506  1.634090\n",
      "2020-07-07   2.983547  11.610054  3.271552\n",
      "2020-07-08   2.560182   8.363732  2.554544\n",
      "2020-07-09   0.931841   8.239710  4.299608\n",
      "2020-07-10   2.251791   8.802374  5.036531\n",
      "2020-07-11   1.976716  10.697573  3.827659\n",
      "2020-07-12   1.965511  10.850283  3.295643\n",
      "2020-07-13   1.342032  10.527837  1.684215\n",
      "2020-07-14   0.744970   8.647286  1.249445\n",
      "2020-07-15   0.137307   8.332207  2.402252\n",
      "2020-07-16  -0.674007   7.370594  3.548219\n",
      "2020-07-17   0.082212   6.570278  5.394651\n",
      "2020-07-18  -0.362006   5.713528  7.384778\n",
      "\n",
      "[200 rows x 3 columns]\n"
     ]
    },
    {
     "data": {
      "image/png": "[encoded data removed]",
      "text/plain": [
       "<Figure size 432x288 with 1 Axes>"
      ]
     },
     "metadata": {
      "needs_background": "light"
     },
     "output_type": "display_data"
    }
   ],
   "source": [
    "df = pd.DataFrame(np.random.randn(200, 3), index=pd.date_range('1/1/2020', periods=200), columns=[\"A\",\"B\",\"C\"])\n",
    "df = df.cumsum()\n",
    "print(df)\n",
    "df.plot();"
   ]
  },
  {
   "cell_type": "code",
   "execution_count": 16,
   "metadata": {},
   "outputs": [
    {
     "name": "stdout",
     "output_type": "stream",
     "text": [
      "A    0.036204\n",
      "B    0.607440\n",
      "C    0.868672\n",
      "D    0.238535\n",
      "Name: title, dtype: float64\n"
     ]
    },
    {
     "data": {
      "text/plain": [
       "<matplotlib.axes._subplots.AxesSubplot at 0x1d44300f3c8>"
      ]
     },
     "execution_count": 16,
     "metadata": {},
     "output_type": "execute_result"
    },
    {
     "data": {
      "image/png": "[encoded data removed]",
      "text/plain": [
       "<Figure size 432x288 with 1 Axes>"
      ]
     },
     "metadata": {},
     "output_type": "display_data"
    }
   ],
   "source": [
    "#圓餅圖\n",
    "df = pd.Series(np.random.rand(4), index=[\"A\",\"B\",\"C\",\"D\"], name=\"title\")\n",
    "print(df)\n",
    "df.plot.pie()"
   ]
  },
  {
   "cell_type": "code",
   "execution_count": 17,
   "metadata": {},
   "outputs": [
    {
     "name": "stdout",
     "output_type": "stream",
     "text": [
      "          A         B\n",
      "0  0.569059  0.236348\n",
      "1  0.412938  0.897730\n",
      "2  0.529091  0.723914\n",
      "3  0.776504  0.055879\n",
      "4  0.457531  0.687378\n",
      "5  0.125690  0.650981\n",
      "6  0.324975  0.934281\n",
      "7  0.250633  0.404240\n",
      "8  0.557770  0.884282\n",
      "9  0.078945  0.354991\n"
     ]
    },
    {
     "data": {
      "image/png": "[encoded data removed]",
      "text/plain": [
       "<Figure size 432x288 with 1 Axes>"
      ]
     },
     "metadata": {
      "needs_background": "light"
     },
     "output_type": "display_data"
    }
   ],
   "source": [
    "df = pd.DataFrame(np.random.rand(10, 2), columns=[\"A\",\"B\"])\n",
    "print(df)\n",
    "df.plot.bar();"
   ]
  },
  {
   "cell_type": "code",
   "execution_count": 18,
   "metadata": {},
   "outputs": [
    {
     "data": {
      "image/png": "[encoded data removed]",
      "text/plain": [
       "<Figure size 432x288 with 1 Axes>"
      ]
     },
     "metadata": {
      "needs_background": "light"
     },
     "output_type": "display_data"
    }
   ],
   "source": [
    "df.plot.bar(stacked=True);"
   ]
  },
  {
   "cell_type": "code",
   "execution_count": 19,
   "metadata": {
    "scrolled": true
   },
   "outputs": [
    {
     "name": "stdout",
     "output_type": "stream",
     "text": [
      "          A         B\n",
      "0  0.443208  0.084330\n",
      "1  0.400096  0.802004\n",
      "2  0.200496  0.615847\n",
      "3  0.427670  0.826352\n",
      "4  0.276278  0.653012\n",
      "5  0.555452  0.332267\n",
      "6  0.588174  0.715281\n",
      "7  0.968063  0.227055\n",
      "8  0.237669  0.470533\n",
      "9  0.817515  0.058693\n"
     ]
    },
    {
     "data": {
      "text/plain": [
       "<matplotlib.axes._subplots.AxesSubplot at 0x1d442dc6da0>"
      ]
     },
     "execution_count": 19,
     "metadata": {},
     "output_type": "execute_result"
    },
    {
     "data": {
      "image/png": "[encoded data removed]",
      "text/plain": [
       "<Figure size 432x288 with 1 Axes>"
      ]
     },
     "metadata": {
      "needs_background": "light"
     },
     "output_type": "display_data"
    }
   ],
   "source": [
    "#箱型圖\n",
    "df = pd.DataFrame(np.random.rand(10, 2), columns=[\"A\",\"B\"])\n",
    "print(df)\n",
    "df.boxplot()"
   ]
  },
  {
   "cell_type": "code",
   "execution_count": 20,
   "metadata": {},
   "outputs": [
    {
     "name": "stdout",
     "output_type": "stream",
     "text": [
      "          A         B\n",
      "0  0.265728  0.932736\n",
      "1  0.760177  0.248100\n",
      "2  0.995448  0.261663\n",
      "3  0.955839  0.191186\n",
      "4  0.605713  0.264030\n",
      "5  0.309243  0.728071\n",
      "6  0.645719  0.331104\n",
      "7  0.270996  0.140253\n",
      "8  0.197438  0.026417\n",
      "9  0.410795  0.818450\n"
     ]
    },
    {
     "data": {
      "text/plain": [
       "<matplotlib.axes._subplots.AxesSubplot at 0x1d443086048>"
      ]
     },
     "execution_count": 20,
     "metadata": {},
     "output_type": "execute_result"
    },
    {
     "data": {
      "image/png": "[encoded data removed]",
      "text/plain": [
       "<Figure size 432x288 with 1 Axes>"
      ]
     },
     "metadata": {
      "needs_background": "light"
     },
     "output_type": "display_data"
    }
   ],
   "source": [
    "#散佈圖\n",
    "df = pd.DataFrame(np.random.rand(10, 2), columns=[\"A\",\"B\"])\n",
    "print(df)\n",
    "df.plot.scatter(x='A', y='B')"
   ]
  },
  {
   "cell_type": "code",
   "execution_count": null,
   "metadata": {},
   "outputs": [],
   "source": []
  }
 ],
 "metadata": {
  "kernelspec": {
   "display_name": "Python 3",
   "language": "python",
   "name": "python3"
  },
  "language_info": {
   "codemirror_mode": {
    "name": "ipython",
    "version": 3
   },
   "file_extension": ".py",
   "mimetype": "text/x-python",
   "name": "python",
   "nbconvert_exporter": "python",
   "pygments_lexer": "ipython3",
   "version": "3.7.3"
  }
 },
 "nbformat": 4,
 "nbformat_minor": 2
}

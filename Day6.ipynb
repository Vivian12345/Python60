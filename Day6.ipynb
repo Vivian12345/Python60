{
 "cells": [
  {
   "cell_type": "markdown",
   "metadata": {},
   "source": [
    "# Assignment"
   ]
  },
  {
   "cell_type": "code",
   "execution_count": 1,
   "metadata": {},
   "outputs": [],
   "source": [
    "import numpy as np"
   ]
  },
  {
   "cell_type": "code",
   "execution_count": 2,
   "metadata": {},
   "outputs": [],
   "source": [
    "array1 = np.array(range(30))\n",
    "array2 = np.array([2,3,5])"
   ]
  },
  {
   "cell_type": "markdown",
   "metadata": {},
   "source": [
    "#1 將下兩列array存成npz檔\n",
    "**多陣列存一起需要存成npz，讀取須注意npz中有多個陣列**"
   ]
  },
  {
   "cell_type": "code",
   "execution_count": 107,
   "metadata": {},
   "outputs": [],
   "source": [
    "with open('assignment.npz', 'wb') as f:\n",
    "    np.savez(f, array1=array1, array2=array2)"
   ]
  },
  {
   "cell_type": "code",
   "execution_count": 109,
   "metadata": {},
   "outputs": [],
   "source": [
    "npzfile = np.load('assignment.npz')"
   ]
  },
  {
   "cell_type": "code",
   "execution_count": 110,
   "metadata": {},
   "outputs": [
    {
     "data": {
      "text/plain": [
       "['array1', 'array2']"
      ]
     },
     "execution_count": 110,
     "metadata": {},
     "output_type": "execute_result"
    }
   ],
   "source": [
    "npzfile.files"
   ]
  },
  {
   "cell_type": "code",
   "execution_count": 111,
   "metadata": {},
   "outputs": [
    {
     "name": "stderr",
     "output_type": "stream",
     "text": [
      "Exception ignored in: <function ZipFile.__del__ at 0x000001AE96F0C1E0>\n",
      "Traceback (most recent call last):\n",
      "  File \"C:\\Users\\admin\\Anaconda3\\lib\\zipfile.py\", line 1789, in __del__\n",
      "    self.close()\n",
      "  File \"C:\\Users\\admin\\Anaconda3\\lib\\zipfile.py\", line 1806, in close\n",
      "    self.fp.seek(self.start_dir)\n",
      "ValueError: I/O operation on closed file.\n"
     ]
    },
    {
     "data": {
      "text/plain": [
       "array([ 0,  1,  2,  3,  4,  5,  6,  7,  8,  9, 10, 11, 12, 13, 14, 15, 16,\n",
       "       17, 18, 19, 20, 21, 22, 23, 24, 25, 26, 27, 28, 29])"
      ]
     },
     "execution_count": 111,
     "metadata": {},
     "output_type": "execute_result"
    }
   ],
   "source": [
    "npzfile[\"array1\"]"
   ]
  },
  {
   "cell_type": "markdown",
   "metadata": {},
   "source": [
    "# Practice"
   ]
  },
  {
   "cell_type": "markdown",
   "metadata": {},
   "source": [
    "## 1. numpy.save(), numpy.savez(), numpy.load()\n",
    "+ .npy 與 .npz 格式是NumPy的檔案格式，透過 save()、savez()、load() 函式進行儲存與讀取"
   ]
  },
  {
   "cell_type": "code",
   "execution_count": 3,
   "metadata": {},
   "outputs": [],
   "source": [
    "with open('one_array.npy', 'wb') as f:\n",
    "    np.save(f, np.array([1, 2]))"
   ]
  },
  {
   "cell_type": "code",
   "execution_count": 4,
   "metadata": {},
   "outputs": [
    {
     "data": {
      "text/plain": [
       "array([1, 2])"
      ]
     },
     "execution_count": 4,
     "metadata": {},
     "output_type": "execute_result"
    }
   ],
   "source": [
    "np.load('one_array.npy')"
   ]
  },
  {
   "cell_type": "code",
   "execution_count": 5,
   "metadata": {},
   "outputs": [],
   "source": [
    "with open('test.npy', 'wb') as f:\n",
    "    np.save(f, np.array([1, 2]))\n",
    "    np.save(f, np.array([1, 3]))\n",
    "    np.save(f, np.array([1, 4]))\n",
    "    np.save(f, np.array([1, 3]))"
   ]
  },
  {
   "cell_type": "code",
   "execution_count": 6,
   "metadata": {},
   "outputs": [
    {
     "name": "stdout",
     "output_type": "stream",
     "text": [
      "[1 2] [1 3] [1 4] [1 3]\n"
     ]
    }
   ],
   "source": [
    "#每次只載入一個陣列\n",
    "with open('test.npy', 'rb') as f:\n",
    "    a = np.load(f)\n",
    "    b = np.load(f)\n",
    "    c = np.load(f)\n",
    "    d = np.load(f)\n",
    "\n",
    "print(a, b, c, d)"
   ]
  },
  {
   "cell_type": "code",
   "execution_count": 72,
   "metadata": {},
   "outputs": [],
   "source": [
    "#使用 numpy.savez() 時，可以儲存多個陣列。\n",
    "x = np.arange(10)\n",
    "y = np.array([1, 2, 3])\n",
    "z = np.random.rand(10)\n",
    "\n",
    "with open('multi_array.npz', 'wb') as f:\n",
    "    np.savez(f, array1=x, array2=y, array3=z)"
   ]
  },
  {
   "cell_type": "code",
   "execution_count": 71,
   "metadata": {},
   "outputs": [
    {
     "data": {
      "text/plain": [
       "numpy.lib.npyio.NpzFile"
      ]
     },
     "execution_count": 71,
     "metadata": {},
     "output_type": "execute_result"
    }
   ],
   "source": [
    "npzfile = np.load('multi_array.npz')\n",
    "type(npzfile)"
   ]
  },
  {
   "cell_type": "code",
   "execution_count": 9,
   "metadata": {},
   "outputs": [
    {
     "data": {
      "text/plain": [
       "['array1', 'array2', 'array3']"
      ]
     },
     "execution_count": 9,
     "metadata": {},
     "output_type": "execute_result"
    }
   ],
   "source": [
    "npzfile.files"
   ]
  },
  {
   "cell_type": "code",
   "execution_count": 10,
   "metadata": {},
   "outputs": [
    {
     "name": "stdout",
     "output_type": "stream",
     "text": [
      "[0 1 2 3 4 5 6 7 8 9]\n",
      "[1 2 3]\n",
      "[0.81614523 0.35486497 0.45103574 0.84435794 0.65329705 0.12340665\n",
      " 0.32246994 0.62394926 0.53987829 0.25615681]\n"
     ]
    }
   ],
   "source": [
    "print(npzfile['array1'])\n",
    "print(npzfile['array2'])\n",
    "print(npzfile['array3'])"
   ]
  },
  {
   "cell_type": "markdown",
   "metadata": {},
   "source": [
    "## 2. savetxt(), loadtxt()"
   ]
  },
  {
   "cell_type": "markdown",
   "metadata": {},
   "source": [
    "### 2.1 numpy.savetxt()\n",
    "+ numpy.savetxt(fname, X, fmt='%.18e', delimiter=' ', newline='n', header='', footer='', comments='# ', encoding=None)"
   ]
  },
  {
   "cell_type": "code",
   "execution_count": 11,
   "metadata": {},
   "outputs": [
    {
     "data": {
      "text/plain": [
       "array([0., 1., 2., 3., 4.])"
      ]
     },
     "execution_count": 11,
     "metadata": {},
     "output_type": "execute_result"
    }
   ],
   "source": [
    "x = y = z = np.arange(0.0,5.0,1.0)\n",
    "x"
   ]
  },
  {
   "cell_type": "code",
   "execution_count": 12,
   "metadata": {},
   "outputs": [
    {
     "data": {
      "text/plain": [
       "array([[0, 1, 2, 3, 4],\n",
       "       [5, 6, 7, 8, 9]])"
      ]
     },
     "execution_count": 12,
     "metadata": {},
     "output_type": "execute_result"
    }
   ],
   "source": [
    "y = np.arange(10).reshape(2, 5)\n",
    "y"
   ]
  },
  {
   "cell_type": "code",
   "execution_count": 13,
   "metadata": {},
   "outputs": [],
   "source": [
    "np.savetxt(\"test.out\", [x], delimiter=\",\")"
   ]
  },
  {
   "cell_type": "markdown",
   "metadata": {},
   "source": [
    "#### 使用 %load <filename> magic command 來查看檔案內容。"
   ]
  },
  {
   "cell_type": "code",
   "execution_count": null,
   "metadata": {},
   "outputs": [],
   "source": [
    "# %load test.out\n",
    "0.000000000000000000e+00,1.000000000000000000e+00,2.000000000000000000e+00,3.000000000000000000e+00,4.000000000000000000e+00\n"
   ]
  },
  {
   "cell_type": "code",
   "execution_count": 17,
   "metadata": {},
   "outputs": [],
   "source": [
    "# 如果副檔名為 .gz 的話，存檔時會存為壓縮的 gzip 檔案。\n",
    "np.savetxt('test.gz', [x], delimiter=',') "
   ]
  },
  {
   "cell_type": "code",
   "execution_count": 19,
   "metadata": {},
   "outputs": [
    {
     "ename": "SyntaxError",
     "evalue": "invalid or missing encoding declaration for 'test.gz' (<string>)",
     "output_type": "error",
     "traceback": [
      "Traceback \u001b[1;36m(most recent call last)\u001b[0m:\n",
      "  File \u001b[0;32m\"C:\\Users\\admin\\Anaconda3\\lib\\site-packages\\IPython\\core\\interactiveshell.py\"\u001b[0m, line \u001b[0;32m3265\u001b[0m, in \u001b[0;35mrun_code\u001b[0m\n    exec(code_obj, self.user_global_ns, self.user_ns)\n",
      "  File \u001b[0;32m\"<ipython-input-19-1182abd3a23f>\"\u001b[0m, line \u001b[0;32m1\u001b[0m, in \u001b[0;35m<module>\u001b[0m\n    get_ipython().run_line_magic('load', 'test.gz')\n",
      "  File \u001b[0;32m\"C:\\Users\\admin\\Anaconda3\\lib\\site-packages\\IPython\\core\\interactiveshell.py\"\u001b[0m, line \u001b[0;32m2285\u001b[0m, in \u001b[0;35mrun_line_magic\u001b[0m\n    result = fn(*args,**kwargs)\n",
      "  File \u001b[0;32m\"<C:\\Users\\admin\\Anaconda3\\lib\\site-packages\\decorator.py:decorator-gen-48>\"\u001b[0m, line \u001b[0;32m2\u001b[0m, in \u001b[0;35mload\u001b[0m\n",
      "  File \u001b[0;32m\"C:\\Users\\admin\\Anaconda3\\lib\\site-packages\\IPython\\core\\magic.py\"\u001b[0m, line \u001b[0;32m187\u001b[0m, in \u001b[0;35m<lambda>\u001b[0m\n    call = lambda f, *a, **k: f(*a, **k)\n",
      "  File \u001b[0;32m\"C:\\Users\\admin\\Anaconda3\\lib\\site-packages\\IPython\\core\\magics\\code.py\"\u001b[0m, line \u001b[0;32m335\u001b[0m, in \u001b[0;35mload\u001b[0m\n    contents = self.shell.find_user_code(args, search_ns=search_ns)\n",
      "  File \u001b[0;32m\"C:\\Users\\admin\\Anaconda3\\lib\\site-packages\\IPython\\core\\interactiveshell.py\"\u001b[0m, line \u001b[0;32m3569\u001b[0m, in \u001b[0;35mfind_user_code\u001b[0m\n    return openpy.read_py_file(tgt, skip_encoding_cookie=skip_encoding_cookie)\n",
      "  File \u001b[0;32m\"C:\\Users\\admin\\Anaconda3\\lib\\site-packages\\IPython\\utils\\openpy.py\"\u001b[0m, line \u001b[0;32m76\u001b[0m, in \u001b[0;35mread_py_file\u001b[0m\n    with open(filename) as f:   # the open function defined in this module.\n",
      "  File \u001b[0;32m\"C:\\Users\\admin\\Anaconda3\\lib\\tokenize.py\"\u001b[0m, line \u001b[0;32m449\u001b[0m, in \u001b[0;35mopen\u001b[0m\n    encoding, lines = detect_encoding(buffer.readline)\n",
      "  File \u001b[0;32m\"C:\\Users\\admin\\Anaconda3\\lib\\tokenize.py\"\u001b[0m, line \u001b[0;32m426\u001b[0m, in \u001b[0;35mdetect_encoding\u001b[0m\n    encoding = find_cookie(first)\n",
      "\u001b[1;36m  File \u001b[1;32m\"C:\\Users\\admin\\Anaconda3\\lib\\tokenize.py\"\u001b[1;36m, line \u001b[1;32m390\u001b[1;36m, in \u001b[1;35mfind_cookie\u001b[1;36m\u001b[0m\n\u001b[1;33m    raise SyntaxError(msg)\u001b[0m\n",
      "\u001b[1;36m  File \u001b[1;32m\"<string>\"\u001b[1;36m, line \u001b[1;32munknown\u001b[0m\n\u001b[1;31mSyntaxError\u001b[0m\u001b[1;31m:\u001b[0m invalid or missing encoding declaration for 'test.gz'\n"
     ]
    }
   ],
   "source": [
    "%load test.gz #會失敗"
   ]
  },
  {
   "cell_type": "code",
   "execution_count": 20,
   "metadata": {},
   "outputs": [],
   "source": [
    "np.savetxt('test.csv', y, delimiter=',')"
   ]
  },
  {
   "cell_type": "code",
   "execution_count": 25,
   "metadata": {},
   "outputs": [
    {
     "data": {
      "text/plain": [
       "(5.0, 6.0, 7.0, 8.0, 9.0)"
      ]
     },
     "execution_count": 25,
     "metadata": {},
     "output_type": "execute_result"
    }
   ],
   "source": [
    "# %load test.csv\n",
    "0.000000000000000000e+00,1.000000000000000000e+00,2.000000000000000000e+00,3.000000000000000000e+00,4.000000000000000000e+00\n",
    "5.000000000000000000e+00,6.000000000000000000e+00,7.000000000000000000e+00,8.000000000000000000e+00,9.000000000000000000e+00\n"
   ]
  },
  {
   "cell_type": "code",
   "execution_count": 22,
   "metadata": {},
   "outputs": [],
   "source": [
    "np.savetxt('test.out', x, fmt='%1.4e', delimiter=',', header='this is,\\nheader', footer='this is footer')"
   ]
  },
  {
   "cell_type": "code",
   "execution_count": 24,
   "metadata": {},
   "outputs": [
    {
     "data": {
      "text/plain": [
       "4.0"
      ]
     },
     "execution_count": 24,
     "metadata": {},
     "output_type": "execute_result"
    }
   ],
   "source": [
    "# %load test.out\n",
    "# this is,\n",
    "# header\n",
    "0.0000e+00\n",
    "1.0000e+00\n",
    "2.0000e+00\n",
    "3.0000e+00\n",
    "4.0000e+00\n",
    "# this is footer\n"
   ]
  },
  {
   "cell_type": "markdown",
   "metadata": {},
   "source": [
    "### 2.2 numpy.loadtxt()"
   ]
  },
  {
   "cell_type": "code",
   "execution_count": 26,
   "metadata": {},
   "outputs": [
    {
     "data": {
      "text/plain": [
       "array([0., 1., 2., 3., 4.], dtype=float32)"
      ]
     },
     "execution_count": 26,
     "metadata": {},
     "output_type": "execute_result"
    }
   ],
   "source": [
    "# 在 dtype 引數中 f4 代表的是浮點數 4 bytes，也就是 float32\n",
    "np.loadtxt('test.out', delimiter=',', dtype='f4')"
   ]
  },
  {
   "cell_type": "markdown",
   "metadata": {},
   "source": [
    "## 3. genfromtxt()"
   ]
  },
  {
   "cell_type": "markdown",
   "metadata": {},
   "source": [
    "### 3.1 將文字檔內容讀取並正確分隔Column"
   ]
  },
  {
   "cell_type": "code",
   "execution_count": 27,
   "metadata": {},
   "outputs": [
    {
     "data": {
      "text/plain": [
       "array([[0., 1., 2., 3., 4.],\n",
       "       [5., 6., 7., 8., 9.]])"
      ]
     },
     "execution_count": 27,
     "metadata": {},
     "output_type": "execute_result"
    }
   ],
   "source": [
    "np.genfromtxt(\"test.csv\", delimiter=\",\")"
   ]
  },
  {
   "cell_type": "markdown",
   "metadata": {},
   "source": [
    "#### 跟 loadtxt() 相同，如果檔案是 gz 或是 bz2 壓縮檔的話，可以直接讀取不需要先解壓縮。"
   ]
  },
  {
   "cell_type": "code",
   "execution_count": 28,
   "metadata": {},
   "outputs": [
    {
     "data": {
      "text/plain": [
       "array([0., 1., 2., 3., 4.])"
      ]
     },
     "execution_count": 28,
     "metadata": {},
     "output_type": "execute_result"
    }
   ],
   "source": [
    "np.genfromtxt(\"test.gz\", delimiter=\",\") "
   ]
  },
  {
   "cell_type": "code",
   "execution_count": 29,
   "metadata": {},
   "outputs": [
    {
     "data": {
      "text/plain": [
       "array([ 1.,  2., nan,  4.,  5.])"
      ]
     },
     "execution_count": 29,
     "metadata": {},
     "output_type": "execute_result"
    }
   ],
   "source": [
    "np.genfromtxt([\"1\", \"2\", \"abc\", \"4\", \"5\"])"
   ]
  },
  {
   "cell_type": "markdown",
   "metadata": {},
   "source": [
    "StringIO建立的是一個file-like object，擁有File Object的所有方法。StringIO還有兩個特殊的方法，就是getvalue()方法和close()方法。\n",
    "\n",
    "getvalue()方法用於獲取StringIO中寫入的內容\n",
    "\n",
    "close()方法關閉StringIO，釋放記憶體。"
   ]
  },
  {
   "cell_type": "code",
   "execution_count": 34,
   "metadata": {},
   "outputs": [
    {
     "data": {
      "text/plain": [
       "array([[  1.,   2.,   3.],\n",
       "       [  4.,   5.,  67.],\n",
       "       [890., 123.,   4.]])"
      ]
     },
     "execution_count": 34,
     "metadata": {},
     "output_type": "execute_result"
    }
   ],
   "source": [
    "from io import StringIO\n",
    "\n",
    "data = \"  1  2  3\\n  4  5 67\\n890123  4\"\n",
    "\n",
    "# 當 delimiter 給定的是一個整數、或是整數的序列時，可以用來將固定寬度的字串讀入，\n",
    "# 在下面的範例中，固定寬度包含了空格。\n",
    "np.genfromtxt(StringIO(data), delimiter=3)"
   ]
  },
  {
   "cell_type": "code",
   "execution_count": 35,
   "metadata": {},
   "outputs": [
    {
     "data": {
      "text/plain": [
       "array([[1234.,  567.,   89.],\n",
       "       [   4.,    7.,    9.],\n",
       "       [   4.,  567.,    9.]])"
      ]
     },
     "execution_count": 35,
     "metadata": {},
     "output_type": "execute_result"
    }
   ],
   "source": [
    "data = u\"123456789\\n   4  7 9\\n   4567 9\"\n",
    "np.genfromtxt(StringIO(data), delimiter=(4, 3, 2))"
   ]
  },
  {
   "cell_type": "code",
   "execution_count": 38,
   "metadata": {},
   "outputs": [
    {
     "data": {
      "text/plain": [
       "array([[1., 2., 4.],\n",
       "       [4., 5., 6.]])"
      ]
     },
     "execution_count": 38,
     "metadata": {},
     "output_type": "execute_result"
    }
   ],
   "source": [
    "data = u\"1, 2 , 4\\n 4, 5, 6\"\n",
    "# autostrip 引數如果設為 True，在讀取時會自動將元素值的空格去除。\n",
    "np.genfromtxt(StringIO(data), delimiter=\",\", autostrip=True)"
   ]
  },
  {
   "cell_type": "code",
   "execution_count": 39,
   "metadata": {},
   "outputs": [
    {
     "data": {
      "text/plain": [
       "array([0., 1., 2., 3., 4.])"
      ]
     },
     "execution_count": 39,
     "metadata": {},
     "output_type": "execute_result"
    }
   ],
   "source": [
    "#在檔案內容中包含了以 # 啟始的 header / footer。\n",
    "# header 有 2 行而 footer 有 1 行，\n",
    "# 設定要略過的行數就可以正確讀入欲讀取的陣列元素。\n",
    "np.genfromtxt(\"test.out\", comments=\"#\")"
   ]
  },
  {
   "cell_type": "code",
   "execution_count": 40,
   "metadata": {},
   "outputs": [
    {
     "data": {
      "text/plain": [
       "array([0., 1., 2., 3., 4.])"
      ]
     },
     "execution_count": 40,
     "metadata": {},
     "output_type": "execute_result"
    }
   ],
   "source": [
    "np.genfromtxt(\"test.out\", comments=None, skip_footer=1, skip_header=2)"
   ]
  },
  {
   "cell_type": "markdown",
   "metadata": {},
   "source": [
    "### 3.2 選擇要讀取的column"
   ]
  },
  {
   "cell_type": "code",
   "execution_count": 44,
   "metadata": {},
   "outputs": [
    {
     "data": {
      "text/plain": [
       "(7, 8, 9)"
      ]
     },
     "execution_count": 44,
     "metadata": {},
     "output_type": "execute_result"
    }
   ],
   "source": [
    "# names.txt 中的第一行是預期的Column名稱。\n",
    "# %load names.txt\n",
    "a,b,c\n",
    "1,2,3\n",
    "4,5,6\n",
    "7,8,9"
   ]
  },
  {
   "cell_type": "code",
   "execution_count": 45,
   "metadata": {},
   "outputs": [
    {
     "data": {
      "text/plain": [
       "array([(1., 2., 3.), (4., 5., 6.), (7., 8., 9.)],\n",
       "      dtype=[('a', '<f8'), ('b', '<f8'), ('c', '<f8')])"
      ]
     },
     "execution_count": 45,
     "metadata": {},
     "output_type": "execute_result"
    }
   ],
   "source": [
    "np.genfromtxt(\"names.txt\", delimiter=\",\", names=True)"
   ]
  },
  {
   "cell_type": "code",
   "execution_count": 46,
   "metadata": {},
   "outputs": [
    {
     "data": {
      "text/plain": [
       "array([(1., 2., 3.), (4., 5., 6.)],\n",
       "      dtype=[('a', '<f8'), ('b', '<f8'), ('c', '<f8')])"
      ]
     },
     "execution_count": 46,
     "metadata": {},
     "output_type": "execute_result"
    }
   ],
   "source": [
    "data = StringIO(\"1 2 3\\n 4 5 6\")\n",
    "np.genfromtxt(data, names=\"a, b, c\")"
   ]
  },
  {
   "cell_type": "code",
   "execution_count": 47,
   "metadata": {},
   "outputs": [
    {
     "data": {
      "text/plain": [
       "array([(1., 3.), (6., 8.)], dtype=[('a', '<f8'), ('c', '<f8')])"
      ]
     },
     "execution_count": 47,
     "metadata": {},
     "output_type": "execute_result"
    }
   ],
   "source": [
    "a = u\"1,2,3,4,5\\n6,7,8,9,10\"\n",
    "# 透過 usecols 引數可以選擇要讀入的Column，下面的例子是指定要讀入的Column名稱。\n",
    "np.genfromtxt(StringIO(a), delimiter=\",\", names=\"a, b, c\", usecols=(\"a\", \"c\"))"
   ]
  },
  {
   "cell_type": "code",
   "execution_count": 48,
   "metadata": {},
   "outputs": [
    {
     "data": {
      "text/plain": [
       "array([[ 2.,  5.],\n",
       "       [ 7., 10.]])"
      ]
     },
     "execution_count": 48,
     "metadata": {},
     "output_type": "execute_result"
    }
   ],
   "source": [
    "a = u\"1 2 3 4 5\\n6 7 8 9 10\"\n",
    "np.genfromtxt(StringIO(a), usecols=(1, -1))"
   ]
  },
  {
   "cell_type": "code",
   "execution_count": 49,
   "metadata": {},
   "outputs": [
    {
     "data": {
      "text/plain": [
       "array([(1, 2., 3), (4, 5., 6)],\n",
       "      dtype=[('f0', '<i4'), ('f1', '<f8'), ('f2', '<i4')])"
      ]
     },
     "execution_count": 49,
     "metadata": {},
     "output_type": "execute_result"
    }
   ],
   "source": [
    "a = StringIO(\"1 2 3\\n 4 5 6\")\n",
    "np.genfromtxt(a, dtype=(int, float, int))"
   ]
  },
  {
   "cell_type": "code",
   "execution_count": 50,
   "metadata": {},
   "outputs": [
    {
     "data": {
      "text/plain": [
       "array([(1, 2., 3), (4, 5., 6)],\n",
       "      dtype=[('var_0', '<i4'), ('var_1', '<f8'), ('var_2', '<i4')])"
      ]
     },
     "execution_count": 50,
     "metadata": {},
     "output_type": "execute_result"
    }
   ],
   "source": [
    "a = StringIO(\"1 2 3\\n 4 5 6\")\n",
    "# 若要指定命名規則，可以使用 defaultfmt 引數。\n",
    "np.genfromtxt(a, dtype=(int, float, int), defaultfmt=\"var_%i\")"
   ]
  },
  {
   "cell_type": "markdown",
   "metadata": {},
   "source": [
    "### 3.3 缺值處理"
   ]
  },
  {
   "cell_type": "code",
   "execution_count": 51,
   "metadata": {},
   "outputs": [
    {
     "data": {
      "text/plain": [
       "array([[nan,  2.,  3.],\n",
       "       [ 4., nan, nan]])"
      ]
     },
     "execution_count": 51,
     "metadata": {},
     "output_type": "execute_result"
    }
   ],
   "source": [
    "a = u\", 2, 3\\n4, ,\"\n",
    "np.genfromtxt(StringIO(a), delimiter=\",\", filling_values=np.nan)"
   ]
  },
  {
   "cell_type": "code",
   "execution_count": 52,
   "metadata": {},
   "outputs": [
    {
     "data": {
      "text/plain": [
       "array([   0.,    2.,    3., -999.])"
      ]
     },
     "execution_count": 52,
     "metadata": {},
     "output_type": "execute_result"
    }
   ],
   "source": [
    "a = u\"N/A, 2, 3, ???\"\n",
    "np.genfromtxt(StringIO(a), delimiter=\",\", \n",
    "              missing_values=[\"N/A\", \"N/A\", \"N/A\", \"???\"], \n",
    "              filling_values=[0, 0, 0, -999])"
   ]
  },
  {
   "cell_type": "markdown",
   "metadata": {},
   "source": [
    "### 3.4 資料轉換"
   ]
  },
  {
   "cell_type": "code",
   "execution_count": 54,
   "metadata": {},
   "outputs": [
    {
     "data": {
      "text/plain": [
       "array([(1, 2, 'Yes', '87%'), (3, 4, 'No', '3%'), (5, 6, 'Yes', '55%')],\n",
       "      dtype=[('f0', '<i8'), ('f1', '<i8'), ('f2', '<U3'), ('f3', '<U3')])"
      ]
     },
     "execution_count": 54,
     "metadata": {},
     "output_type": "execute_result"
    }
   ],
   "source": [
    "np.genfromtxt(\"transform.txt\", delimiter=',', dtype=\"i8, i8, U3, U3\")"
   ]
  },
  {
   "cell_type": "markdown",
   "metadata": {},
   "source": [
    "舉例來說，如果我們想將資料中的Yes/No與百分比進行轉換，使用自訂函式來進行。"
   ]
  },
  {
   "cell_type": "markdown",
   "metadata": {},
   "source": [
    "**補充**\n",
    "+ 1.字串前加u: 後面字串以 Unicode 格式 進行編碼，一般用在中文字串前面，防止因為原始碼儲存格式問題，導致再次使用時出現亂碼。 \n",
    "+ 2.字串前加r: 聲明後面的字串是普通字串，相對的，特殊字串中含有：轉義字元 \\n \\t 什麼什麼的\n",
    "+ 3.字串前加b: python3.x裡預設的str是(py2.x裡的)unicode, bytes是(py2.x)的str, b”“字首代表的就是bytes。python2.x裡, b字首沒什麼具體意義， 只是為了相容python3.x的這種寫法"
   ]
  },
  {
   "cell_type": "code",
   "execution_count": 55,
   "metadata": {},
   "outputs": [],
   "source": [
    "def trans(s):\n",
    "    if s == b'Yes':\n",
    "        return 1\n",
    "    else:\n",
    "        return 0"
   ]
  },
  {
   "cell_type": "code",
   "execution_count": 60,
   "metadata": {},
   "outputs": [],
   "source": [
    "def conversion(x):\n",
    "    return float(x.strip(b\"%\"))/100"
   ]
  },
  {
   "cell_type": "code",
   "execution_count": 61,
   "metadata": {},
   "outputs": [
    {
     "data": {
      "text/plain": [
       "array([(1., 2., 1, 0.87), (3., 4., 0, 0.03), (5., 6., 1, 0.55)],\n",
       "      dtype=[('f0', '<f8'), ('f1', '<f8'), ('f2', '<i4'), ('f3', '<f8')])"
      ]
     },
     "execution_count": 61,
     "metadata": {},
     "output_type": "execute_result"
    }
   ],
   "source": [
    "np.genfromtxt(\"transform.txt\", delimiter=',', converters={2:trans, 3:conversion})"
   ]
  }
 ],
 "metadata": {
  "kernelspec": {
   "display_name": "Python 3",
   "language": "python",
   "name": "python3"
  },
  "language_info": {
   "codemirror_mode": {
    "name": "ipython",
    "version": 3
   },
   "file_extension": ".py",
   "mimetype": "text/x-python",
   "name": "python",
   "nbconvert_exporter": "python",
   "pygments_lexer": "ipython3",
   "version": "3.7.3"
  }
 },
 "nbformat": 4,
 "nbformat_minor": 2
}
